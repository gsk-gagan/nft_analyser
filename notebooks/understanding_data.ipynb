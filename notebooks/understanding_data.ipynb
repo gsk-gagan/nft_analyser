{
 "cells": [
  {
   "cell_type": "markdown",
   "metadata": {},
   "source": [
    "Colab Specific"
   ]
  },
  {
   "cell_type": "code",
   "execution_count": 1,
   "metadata": {},
   "outputs": [],
   "source": [
    "# from google.colab import data_table\n",
    "# data_table.enable_dataframe_formatter()"
   ]
  },
  {
   "cell_type": "code",
   "execution_count": 1,
   "metadata": {},
   "outputs": [],
   "source": [
    "import matplotlib.pyplot as plt\n",
    "\n",
    "plt.style.use('seaborn-dark')\n",
    "plt.rc('figure', figsize=(10, 7))\n",
    "plt.rc('font', size=12)"
   ]
  },
  {
   "cell_type": "markdown",
   "metadata": {
    "id": "tBOECfvUjywS"
   },
   "source": [
    "# Data Information\n",
    "\n",
    "https://www.kaggle.com/simiotic/ethereum-nfts"
   ]
  },
  {
   "cell_type": "markdown",
   "metadata": {
    "id": "hr6f9RzAu3NN"
   },
   "source": [
    "# Analysing NFT Database"
   ]
  },
  {
   "cell_type": "code",
   "execution_count": 2,
   "metadata": {
    "id": "m2xcrrwUqpdK"
   },
   "outputs": [],
   "source": [
    "import sqlite3\n",
    "import pandas as pd\n",
    "import numpy as np"
   ]
  },
  {
   "cell_type": "code",
   "execution_count": 3,
   "metadata": {
    "id": "tApDflbCq8rM"
   },
   "outputs": [],
   "source": [
    "conn = sqlite3.connect('data/nfts.sqlite')"
   ]
  },
  {
   "cell_type": "code",
   "execution_count": 4,
   "metadata": {
    "colab": {
     "base_uri": "https://localhost:8080/"
    },
    "id": "8mnjCIVhsmF5",
    "outputId": "69615196-d79a-4ceb-90dc-38f7d7001b6b"
   },
   "outputs": [
    {
     "data": {
      "text/plain": [
       "array(['nfts', 'checkpoint', 'mints', 'transfers',\n",
       "       'transfer_values_quartile_10_distribution_per_address',\n",
       "       'current_owners', 'current_market_values',\n",
       "       'market_values_distribution', 'transfer_statistics_by_address',\n",
       "       'transfer_values_quantile_10_distribution_per_address',\n",
       "       'transfer_values_quantile_25_distribution_per_address',\n",
       "       'transfers_mints', 'mint_holding_times', 'transfer_holding_times',\n",
       "       'ownership_transitions'], dtype=object)"
      ]
     },
     "execution_count": 4,
     "metadata": {},
     "output_type": "execute_result"
    }
   ],
   "source": [
    "db_schema_df = pd.read_sql_query(\"SELECT * from sqlite_master WHERE type='table'\", conn)\n",
    "db_schema_df['name'].values"
   ]
  },
  {
   "cell_type": "code",
   "execution_count": 5,
   "metadata": {
    "id": "IXCkVjQLVYbT"
   },
   "outputs": [],
   "source": [
    "# Helper Functions\n",
    "eth_usd = 3000    # Min value asof 8th Jan 2022\n",
    "\n",
    "def show(table, count=100, conn=conn):\n",
    "  return pd.read_sql_query(f'SELECT * FROM {table} LIMIT {count}', conn)"
   ]
  },
  {
   "cell_type": "markdown",
   "metadata": {
    "id": "ITvooIGIZ98G"
   },
   "source": [
    "## Description of different features\n",
    "\n",
    "* **nft_address** - Address of the smart contract\n",
    "* **token_id** - Identifier of a NFT within a nft_address. That means, a given nft_address (i.e. smart contract) can contain multiple NFTs which are represented by token_id"
   ]
  },
  {
   "cell_type": "markdown",
   "metadata": {
    "id": "Xc1_Tk7iXYL9"
   },
   "source": [
    "## Quick Analysis of Relevant Tables"
   ]
  },
  {
   "cell_type": "markdown",
   "metadata": {
    "id": "jkAztKDIXgua"
   },
   "source": [
    "### current_market_values"
   ]
  },
  {
   "cell_type": "code",
   "execution_count": 6,
   "metadata": {
    "colab": {
     "base_uri": "https://localhost:8080/",
     "height": 155
    },
    "id": "y3PAIYHWXdsI",
    "outputId": "ceef1632-1108-4142-b4f8-fbf70d7f7492"
   },
   "outputs": [
    {
     "data": {
      "text/html": [
       "<div>\n",
       "<style scoped>\n",
       "    .dataframe tbody tr th:only-of-type {\n",
       "        vertical-align: middle;\n",
       "    }\n",
       "\n",
       "    .dataframe tbody tr th {\n",
       "        vertical-align: top;\n",
       "    }\n",
       "\n",
       "    .dataframe thead th {\n",
       "        text-align: right;\n",
       "    }\n",
       "</style>\n",
       "<table border=\"1\" class=\"dataframe\">\n",
       "  <thead>\n",
       "    <tr style=\"text-align: right;\">\n",
       "      <th></th>\n",
       "      <th>nft_address</th>\n",
       "      <th>token_id</th>\n",
       "      <th>market_value</th>\n",
       "    </tr>\n",
       "  </thead>\n",
       "  <tbody>\n",
       "    <tr>\n",
       "      <th>0</th>\n",
       "      <td>0x00000000000b7F8E8E8Ad148f9d53303Bfe20796</td>\n",
       "      <td>0</td>\n",
       "      <td>30000000000000000</td>\n",
       "    </tr>\n",
       "    <tr>\n",
       "      <th>1</th>\n",
       "      <td>0x00000000000b7F8E8E8Ad148f9d53303Bfe20796</td>\n",
       "      <td>1</td>\n",
       "      <td>150000000000000000</td>\n",
       "    </tr>\n",
       "    <tr>\n",
       "      <th>2</th>\n",
       "      <td>0x00000000000b7F8E8E8Ad148f9d53303Bfe20796</td>\n",
       "      <td>10</td>\n",
       "      <td>150000000000000000</td>\n",
       "    </tr>\n",
       "  </tbody>\n",
       "</table>\n",
       "</div>"
      ],
      "text/plain": [
       "                                  nft_address token_id        market_value\n",
       "0  0x00000000000b7F8E8E8Ad148f9d53303Bfe20796        0   30000000000000000\n",
       "1  0x00000000000b7F8E8E8Ad148f9d53303Bfe20796        1  150000000000000000\n",
       "2  0x00000000000b7F8E8E8Ad148f9d53303Bfe20796       10  150000000000000000"
      ]
     },
     "execution_count": 6,
     "metadata": {},
     "output_type": "execute_result"
    }
   ],
   "source": [
    "show('current_market_values').head(3)"
   ]
  },
  {
   "cell_type": "code",
   "execution_count": 7,
   "metadata": {
    "id": "KpomQKT4bjId"
   },
   "outputs": [],
   "source": [
    "df = pd.read_sql_query(\n",
    "    f\"\"\"SELECT market_value*{eth_usd}/1e18 AS value_usd \n",
    "    FROM current_market_values \n",
    "    WHERE value_usd > 1\"\"\",\n",
    "    conn)"
   ]
  },
  {
   "cell_type": "code",
   "execution_count": 8,
   "metadata": {
    "colab": {
     "base_uri": "https://localhost:8080/",
     "height": 266
    },
    "id": "hRBcYnTvcLqB",
    "outputId": "deb823f6-3a48-4c09-b8df-bd3abdaa0f09"
   },
   "outputs": [
    {
     "data": {
      "text/plain": [
       "<AxesSubplot:>"
      ]
     },
     "execution_count": 8,
     "metadata": {},
     "output_type": "execute_result"
    },
    {
     "data": {
      "image/png": "[encoded data removed]",
      "text/plain": [
       "<Figure size 720x504 with 1 Axes>"
      ]
     },
     "metadata": {},
     "output_type": "display_data"
    }
   ],
   "source": [
    "df.plot(kind='box', logy=True);"
   ]
  },
  {
   "cell_type": "code",
   "execution_count": 9,
   "metadata": {
    "colab": {
     "base_uri": "https://localhost:8080/",
     "height": 278
    },
    "id": "GM00xOQwbq5T",
    "outputId": "25c573ff-0bef-4d35-a095-9f722a0bbb16"
   },
   "outputs": [
    {
     "data": {
      "image/png": "[encoded data removed]",
      "text/plain": [
       "<Figure size 720x504 with 1 Axes>"
      ]
     },
     "metadata": {},
     "output_type": "display_data"
    }
   ],
   "source": [
    "df.plot(kind='hist', logy=True);"
   ]
  },
  {
   "cell_type": "code",
   "execution_count": 10,
   "metadata": {
    "colab": {
     "base_uri": "https://localhost:8080/",
     "height": 266
    },
    "id": "vL5PdSsrand8",
    "outputId": "ef7733b2-8152-4d26-bc6a-041754ee6521"
   },
   "outputs": [
    {
     "data": {
      "image/png": "[encoded data removed]",
      "text/plain": [
       "<Figure size 720x504 with 1 Axes>"
      ]
     },
     "metadata": {},
     "output_type": "display_data"
    }
   ],
   "source": [
    "qtiles = [v[0] for v in df.quantile(q=[0.25, 0.75]).values]\n",
    "df[(df.value_usd >= qtiles[0]) & (df.value_usd <= qtiles[1])].boxplot();"
   ]
  },
  {
   "cell_type": "markdown",
   "metadata": {
    "id": "A-C-f0_-goeR"
   },
   "source": [
    "### current_owners\n",
    "\n",
    "TODO:\n",
    "* Combine _current_market_values_ with _current_owners_ to find the estimated wealth by players of NFT market. Inference could be, low barrier to entry.\n",
    "* Try to see if players belonging to this category were able to sell their NFT for profit"
   ]
  },
  {
   "cell_type": "code",
   "execution_count": 11,
   "metadata": {
    "colab": {
     "base_uri": "https://localhost:8080/",
     "height": 155
    },
    "id": "SCazKyvKYgTS",
    "outputId": "fe51fd3b-5cb8-4349-b366-ddc8b6295177"
   },
   "outputs": [
    {
     "data": {
      "text/html": [
       "<div>\n",
       "<style scoped>\n",
       "    .dataframe tbody tr th:only-of-type {\n",
       "        vertical-align: middle;\n",
       "    }\n",
       "\n",
       "    .dataframe tbody tr th {\n",
       "        vertical-align: top;\n",
       "    }\n",
       "\n",
       "    .dataframe thead th {\n",
       "        text-align: right;\n",
       "    }\n",
       "</style>\n",
       "<table border=\"1\" class=\"dataframe\">\n",
       "  <thead>\n",
       "    <tr style=\"text-align: right;\">\n",
       "      <th></th>\n",
       "      <th>nft_address</th>\n",
       "      <th>token_id</th>\n",
       "      <th>owner</th>\n",
       "    </tr>\n",
       "  </thead>\n",
       "  <tbody>\n",
       "    <tr>\n",
       "      <th>0</th>\n",
       "      <td>0x00000000000b7F8E8E8Ad148f9d53303Bfe20796</td>\n",
       "      <td>0</td>\n",
       "      <td>0xb776cAb26B9e6Be821842DC0cc0e8217489a4581</td>\n",
       "    </tr>\n",
       "    <tr>\n",
       "      <th>1</th>\n",
       "      <td>0x00000000000b7F8E8E8Ad148f9d53303Bfe20796</td>\n",
       "      <td>1</td>\n",
       "      <td>0x8A73024B39A4477a5Dc43fD6360e446851AD1D28</td>\n",
       "    </tr>\n",
       "    <tr>\n",
       "      <th>2</th>\n",
       "      <td>0x00000000000b7F8E8E8Ad148f9d53303Bfe20796</td>\n",
       "      <td>10</td>\n",
       "      <td>0x5e5C817E9264B46cBBB980198684Ad9d14f3e0B4</td>\n",
       "    </tr>\n",
       "  </tbody>\n",
       "</table>\n",
       "</div>"
      ],
      "text/plain": [
       "                                  nft_address token_id  \\\n",
       "0  0x00000000000b7F8E8E8Ad148f9d53303Bfe20796        0   \n",
       "1  0x00000000000b7F8E8E8Ad148f9d53303Bfe20796        1   \n",
       "2  0x00000000000b7F8E8E8Ad148f9d53303Bfe20796       10   \n",
       "\n",
       "                                        owner  \n",
       "0  0xb776cAb26B9e6Be821842DC0cc0e8217489a4581  \n",
       "1  0x8A73024B39A4477a5Dc43fD6360e446851AD1D28  \n",
       "2  0x5e5C817E9264B46cBBB980198684Ad9d14f3e0B4  "
      ]
     },
     "execution_count": 11,
     "metadata": {},
     "output_type": "execute_result"
    }
   ],
   "source": [
    "show('current_owners').head(3)"
   ]
  },
  {
   "cell_type": "code",
   "execution_count": 12,
   "metadata": {
    "id": "bGtdHNszgxwI"
   },
   "outputs": [],
   "source": [
    "df = pd.read_sql_query(\n",
    "    f\"\"\"SELECT owner, count(nft_address) AS num_nfts\n",
    "    FROM current_owners\n",
    "    GROUP BY owner\"\"\",\n",
    "    conn)"
   ]
  },
  {
   "cell_type": "code",
   "execution_count": 13,
   "metadata": {
    "colab": {
     "base_uri": "https://localhost:8080/",
     "height": 266
    },
    "id": "5gTUJD4JhZaT",
    "outputId": "6be38e27-de5a-4b3f-ce1f-19d0719a908d"
   },
   "outputs": [
    {
     "data": {
      "image/png": "[encoded data removed]",
      "text/plain": [
       "<Figure size 720x504 with 1 Axes>"
      ]
     },
     "metadata": {},
     "output_type": "display_data"
    }
   ],
   "source": [
    "df['num_nfts'].plot(kind='box', logy=True);"
   ]
  },
  {
   "cell_type": "code",
   "execution_count": 14,
   "metadata": {
    "colab": {
     "base_uri": "https://localhost:8080/",
     "height": 268
    },
    "id": "jfNpmpJphZxC",
    "outputId": "6b4de039-1b22-4f97-d35f-871c013261c9"
   },
   "outputs": [
    {
     "data": {
      "image/png": "[encoded data removed]",
      "text/plain": [
       "<Figure size 720x504 with 1 Axes>"
      ]
     },
     "metadata": {},
     "output_type": "display_data"
    }
   ],
   "source": [
    "df['num_nfts'].plot(kind='hist', logy=True);"
   ]
  },
  {
   "cell_type": "markdown",
   "metadata": {
    "id": "7QHU1M8Ek8Mg"
   },
   "source": [
    "### mint_holding_times"
   ]
  },
  {
   "cell_type": "code",
   "execution_count": 15,
   "metadata": {
    "colab": {
     "base_uri": "https://localhost:8080/",
     "height": 155
    },
    "id": "bisR0pjhiZ97",
    "outputId": "e27b9097-547f-4117-b394-43ea24f48a41"
   },
   "outputs": [
    {
     "data": {
      "text/html": [
       "<div>\n",
       "<style scoped>\n",
       "    .dataframe tbody tr th:only-of-type {\n",
       "        vertical-align: middle;\n",
       "    }\n",
       "\n",
       "    .dataframe tbody tr th {\n",
       "        vertical-align: top;\n",
       "    }\n",
       "\n",
       "    .dataframe thead th {\n",
       "        text-align: right;\n",
       "    }\n",
       "</style>\n",
       "<table border=\"1\" class=\"dataframe\">\n",
       "  <thead>\n",
       "    <tr style=\"text-align: right;\">\n",
       "      <th></th>\n",
       "      <th>days</th>\n",
       "      <th>num_holds</th>\n",
       "    </tr>\n",
       "  </thead>\n",
       "  <tbody>\n",
       "    <tr>\n",
       "      <th>0</th>\n",
       "      <td>0</td>\n",
       "      <td>1178780</td>\n",
       "    </tr>\n",
       "    <tr>\n",
       "      <th>1</th>\n",
       "      <td>1</td>\n",
       "      <td>235589</td>\n",
       "    </tr>\n",
       "    <tr>\n",
       "      <th>2</th>\n",
       "      <td>2</td>\n",
       "      <td>143971</td>\n",
       "    </tr>\n",
       "  </tbody>\n",
       "</table>\n",
       "</div>"
      ],
      "text/plain": [
       "   days  num_holds\n",
       "0     0    1178780\n",
       "1     1     235589\n",
       "2     2     143971"
      ]
     },
     "execution_count": 15,
     "metadata": {},
     "output_type": "execute_result"
    }
   ],
   "source": [
    "show('mint_holding_times').head(3)"
   ]
  },
  {
   "cell_type": "code",
   "execution_count": 16,
   "metadata": {
    "id": "lKD6DmaFriNN"
   },
   "outputs": [],
   "source": [
    "df = pd.read_sql_query(\"SELECT * FROM mint_holding_times\", conn)"
   ]
  },
  {
   "cell_type": "code",
   "execution_count": 17,
   "metadata": {
    "colab": {
     "base_uri": "https://localhost:8080/",
     "height": 296
    },
    "id": "r-1ik4zQWpPr",
    "outputId": "f953044d-1c22-4f8d-ee2c-fd2289b41f22"
   },
   "outputs": [
    {
     "data": {
      "text/plain": [
       "<AxesSubplot:xlabel='days'>"
      ]
     },
     "execution_count": 17,
     "metadata": {},
     "output_type": "execute_result"
    },
    {
     "data": {
      "image/png": "[encoded data removed]",
      "text/plain": [
       "<Figure size 720x504 with 1 Axes>"
      ]
     },
     "metadata": {},
     "output_type": "display_data"
    }
   ],
   "source": [
    "df.set_index('days').plot(logy=True)"
   ]
  },
  {
   "cell_type": "markdown",
   "metadata": {
    "id": "8TlFPgppXA7w"
   },
   "source": [
    "### nfts\n",
    "\n",
    "TODO:\n",
    "* Do analysis of which words are more likely to sell (word2vec for both name and symbol)"
   ]
  },
  {
   "cell_type": "code",
   "execution_count": 19,
   "metadata": {
    "colab": {
     "base_uri": "https://localhost:8080/",
     "height": 155
    },
    "id": "bavRwQ6WWtUT",
    "outputId": "3e6f662b-f055-4a42-c077-e79d282fd02b"
   },
   "outputs": [
    {
     "data": {
      "text/html": [
       "<div>\n",
       "<style scoped>\n",
       "    .dataframe tbody tr th:only-of-type {\n",
       "        vertical-align: middle;\n",
       "    }\n",
       "\n",
       "    .dataframe tbody tr th {\n",
       "        vertical-align: top;\n",
       "    }\n",
       "\n",
       "    .dataframe thead th {\n",
       "        text-align: right;\n",
       "    }\n",
       "</style>\n",
       "<table border=\"1\" class=\"dataframe\">\n",
       "  <thead>\n",
       "    <tr style=\"text-align: right;\">\n",
       "      <th></th>\n",
       "      <th>address</th>\n",
       "      <th>name</th>\n",
       "      <th>symbol</th>\n",
       "    </tr>\n",
       "  </thead>\n",
       "  <tbody>\n",
       "    <tr>\n",
       "      <th>0</th>\n",
       "      <td>0xF4ee95274741437636e748DdAc70818B4ED7d043</td>\n",
       "      <td>The Doge Pound</td>\n",
       "      <td>DOGGY</td>\n",
       "    </tr>\n",
       "    <tr>\n",
       "      <th>1</th>\n",
       "      <td>0xba30E5F9Bb24caa003E9f2f0497Ad287FDF95623</td>\n",
       "      <td>BoredApeKennelClub</td>\n",
       "      <td>BAKC</td>\n",
       "    </tr>\n",
       "    <tr>\n",
       "      <th>2</th>\n",
       "      <td>0x7403AC30DE7309a0bF019cdA8EeC034a5507cbB3</td>\n",
       "      <td>Characters</td>\n",
       "      <td>CHAR</td>\n",
       "    </tr>\n",
       "  </tbody>\n",
       "</table>\n",
       "</div>"
      ],
      "text/plain": [
       "                                      address                name symbol\n",
       "0  0xF4ee95274741437636e748DdAc70818B4ED7d043      The Doge Pound  DOGGY\n",
       "1  0xba30E5F9Bb24caa003E9f2f0497Ad287FDF95623  BoredApeKennelClub   BAKC\n",
       "2  0x7403AC30DE7309a0bF019cdA8EeC034a5507cbB3          Characters   CHAR"
      ]
     },
     "execution_count": 19,
     "metadata": {},
     "output_type": "execute_result"
    }
   ],
   "source": [
    "show('nfts').head(3)"
   ]
  },
  {
   "cell_type": "code",
   "execution_count": 20,
   "metadata": {
    "id": "B5hgIyL7XD36"
   },
   "outputs": [],
   "source": [
    "df = pd.read_sql_query(\"SELECT * FROM nfts\", conn)"
   ]
  },
  {
   "cell_type": "code",
   "execution_count": 23,
   "metadata": {},
   "outputs": [],
   "source": [
    "df.set_index('address', inplace=True)"
   ]
  },
  {
   "cell_type": "code",
   "execution_count": 24,
   "metadata": {},
   "outputs": [
    {
     "data": {
      "text/html": [
       "<div>\n",
       "<style scoped>\n",
       "    .dataframe tbody tr th:only-of-type {\n",
       "        vertical-align: middle;\n",
       "    }\n",
       "\n",
       "    .dataframe tbody tr th {\n",
       "        vertical-align: top;\n",
       "    }\n",
       "\n",
       "    .dataframe thead th {\n",
       "        text-align: right;\n",
       "    }\n",
       "</style>\n",
       "<table border=\"1\" class=\"dataframe\">\n",
       "  <thead>\n",
       "    <tr style=\"text-align: right;\">\n",
       "      <th></th>\n",
       "      <th>name</th>\n",
       "      <th>symbol</th>\n",
       "    </tr>\n",
       "    <tr>\n",
       "      <th>address</th>\n",
       "      <th></th>\n",
       "      <th></th>\n",
       "    </tr>\n",
       "  </thead>\n",
       "  <tbody>\n",
       "    <tr>\n",
       "      <th>0xF4ee95274741437636e748DdAc70818B4ED7d043</th>\n",
       "      <td>The Doge Pound</td>\n",
       "      <td>DOGGY</td>\n",
       "    </tr>\n",
       "    <tr>\n",
       "      <th>0xba30E5F9Bb24caa003E9f2f0497Ad287FDF95623</th>\n",
       "      <td>BoredApeKennelClub</td>\n",
       "      <td>BAKC</td>\n",
       "    </tr>\n",
       "    <tr>\n",
       "      <th>0x7403AC30DE7309a0bF019cdA8EeC034a5507cbB3</th>\n",
       "      <td>Characters</td>\n",
       "      <td>CHAR</td>\n",
       "    </tr>\n",
       "    <tr>\n",
       "      <th>0x511372B44231a31527025a3D273C1dc0a83D77aF</th>\n",
       "      <td>Maps Restored</td>\n",
       "      <td>MAP</td>\n",
       "    </tr>\n",
       "    <tr>\n",
       "      <th>0x2E956Ed3D7337F4Ed4316A6e8F2EdF74BF84bb54</th>\n",
       "      <td>Neon Junkies</td>\n",
       "      <td>JUNKIES</td>\n",
       "    </tr>\n",
       "    <tr>\n",
       "      <th>...</th>\n",
       "      <td>...</td>\n",
       "      <td>...</td>\n",
       "    </tr>\n",
       "    <tr>\n",
       "      <th>0x848433E170d7b253e8004415643260f18e36fA40</th>\n",
       "      <td>Fredrick and Penny</td>\n",
       "      <td>FNPBJ</td>\n",
       "    </tr>\n",
       "    <tr>\n",
       "      <th>0xb5dc78d106cb4540ca945DC1fabC63845198f3F0</th>\n",
       "      <td>SH Minter</td>\n",
       "      <td>SH</td>\n",
       "    </tr>\n",
       "    <tr>\n",
       "      <th>0x053bf84359415542E9d65138d1bC0dD0d01e10F7</th>\n",
       "      <td>NFT - 3</td>\n",
       "      <td>NFT3</td>\n",
       "    </tr>\n",
       "    <tr>\n",
       "      <th>0xc1a8621eFdeF8E2173435Af416ac18D858ECaF49</th>\n",
       "      <td>Pedro Ferreira</td>\n",
       "      <td>PF</td>\n",
       "    </tr>\n",
       "    <tr>\n",
       "      <th>0x766ECB7760D6d2F70b249c5FD25535Efc4A0758B</th>\n",
       "      <td>Empire Distribution, Records And Publishing Inc.</td>\n",
       "      <td>EMPR</td>\n",
       "    </tr>\n",
       "  </tbody>\n",
       "</table>\n",
       "<p>9388 rows × 2 columns</p>\n",
       "</div>"
      ],
      "text/plain": [
       "                                                                                        name  \\\n",
       "address                                                                                        \n",
       "0xF4ee95274741437636e748DdAc70818B4ED7d043                                    The Doge Pound   \n",
       "0xba30E5F9Bb24caa003E9f2f0497Ad287FDF95623                                BoredApeKennelClub   \n",
       "0x7403AC30DE7309a0bF019cdA8EeC034a5507cbB3                                        Characters   \n",
       "0x511372B44231a31527025a3D273C1dc0a83D77aF                                     Maps Restored   \n",
       "0x2E956Ed3D7337F4Ed4316A6e8F2EdF74BF84bb54                                      Neon Junkies   \n",
       "...                                                                                      ...   \n",
       "0x848433E170d7b253e8004415643260f18e36fA40                                Fredrick and Penny   \n",
       "0xb5dc78d106cb4540ca945DC1fabC63845198f3F0                                         SH Minter   \n",
       "0x053bf84359415542E9d65138d1bC0dD0d01e10F7                                           NFT - 3   \n",
       "0xc1a8621eFdeF8E2173435Af416ac18D858ECaF49                                    Pedro Ferreira   \n",
       "0x766ECB7760D6d2F70b249c5FD25535Efc4A0758B  Empire Distribution, Records And Publishing Inc.   \n",
       "\n",
       "                                             symbol  \n",
       "address                                              \n",
       "0xF4ee95274741437636e748DdAc70818B4ED7d043    DOGGY  \n",
       "0xba30E5F9Bb24caa003E9f2f0497Ad287FDF95623     BAKC  \n",
       "0x7403AC30DE7309a0bF019cdA8EeC034a5507cbB3     CHAR  \n",
       "0x511372B44231a31527025a3D273C1dc0a83D77aF      MAP  \n",
       "0x2E956Ed3D7337F4Ed4316A6e8F2EdF74BF84bb54  JUNKIES  \n",
       "...                                             ...  \n",
       "0x848433E170d7b253e8004415643260f18e36fA40    FNPBJ  \n",
       "0xb5dc78d106cb4540ca945DC1fabC63845198f3F0       SH  \n",
       "0x053bf84359415542E9d65138d1bC0dD0d01e10F7     NFT3  \n",
       "0xc1a8621eFdeF8E2173435Af416ac18D858ECaF49       PF  \n",
       "0x766ECB7760D6d2F70b249c5FD25535Efc4A0758B     EMPR  \n",
       "\n",
       "[9388 rows x 2 columns]"
      ]
     },
     "execution_count": 24,
     "metadata": {},
     "output_type": "execute_result"
    }
   ],
   "source": [
    "df"
   ]
  },
  {
   "cell_type": "code",
   "execution_count": null,
   "metadata": {},
   "outputs": [],
   "source": []
  }
 ],
 "metadata": {
  "colab": {
   "name": "nft",
   "provenance": []
  },
  "kernelspec": {
   "display_name": "Python 3 (ipykernel)",
   "language": "python",
   "name": "python3"
  },
  "language_info": {
   "codemirror_mode": {
    "name": "ipython",
    "version": 3
   },
   "file_extension": ".py",
   "mimetype": "text/x-python",
   "name": "python",
   "nbconvert_exporter": "python",
   "pygments_lexer": "ipython3",
   "version": "3.9.7"
  }
 },
 "nbformat": 4,
 "nbformat_minor": 4
}
